{
 "cells": [
  {
   "cell_type": "code",
   "execution_count": 1,
   "metadata": {},
   "outputs": [],
   "source": [
    "import numpy as np\n",
    "import cv2\n",
    "import glob\n",
    "\n",
    "# termination criteria\n",
    "criteria = (cv2.TERM_CRITERIA_EPS + cv2.TERM_CRITERIA_MAX_ITER, 30, 0.001)\n",
    "\n",
    "# prepare object points, like (0,0,0), (1,0,0), (2,0,0) ....,(6,5,0)\n",
    "objp = np.zeros((6*7,3), np.float32)\n",
    "objp[:,:2] = np.mgrid[0:7,0:6].T.reshape(-1,2)\n",
    "\n",
    "# Arrays to store object points and image points from all the images.\n",
    "objpoints = [] # 3d point in real world space\n",
    "imgpoints = [] # 2d points in image plane.\n",
    "\n",
    "images = glob.glob('*.jpg')\n",
    "\n",
    "for fname in images:\n",
    "    img = cv2.imread(fname)\n",
    "    gray = cv2.cvtColor(img,cv2.COLOR_BGR2GRAY)\n",
    "\n",
    "    # Find the chess board corners\n",
    "    ret, corners = cv2.findChessboardCorners(gray, (7,6),None)\n",
    "\n",
    "    # If found, add object points, image points (after refining them)\n",
    "    if ret == True:\n",
    "        objpoints.append(objp)\n",
    "\n",
    "        corners2 = cv2.cornerSubPix(gray,corners,(11,11),(-1,-1),criteria)\n",
    "        imgpoints.append(corners2)\n",
    "\n",
    "        # Draw and display the corners\n",
    "        img = cv2.drawChessboardCorners(img, (7,6), corners2,ret)\n",
    "        cv2.imshow('img',img)\n",
    "        cv2.waitKey(500)\n",
    "\n",
    "cv2.destroyAllWindows()"
   ]
  },
  {
   "cell_type": "code",
   "execution_count": 2,
   "metadata": {},
   "outputs": [],
   "source": [
    "import numpy as np\n",
    "import cv2\n",
    "import copy\n",
    "from calibration import generate_truth_locations, recover_homographies\n",
    "from util import *\n",
    "\n",
    "\n",
    "class Camera:\n",
    "    def __init__(self) -> None:\n",
    "        pass\n",
    "\n",
    "    @staticmethod\n",
    "    def static_calibrate(gray_images: np.ndarray, chessboard_size, chessboard_cell_size, save_image=True, save_path='./images/') -> np.ndarray:\n",
    "        # H矩阵\n",
    "        H_s = []\n",
    "        for i in range(gray_images.shape[0]):\n",
    "            # 寻找棋盘格角点的模式 自适应阈值+标准化图片\n",
    "            chessboard_flags = cv2.CALIB_CB_ADAPTIVE_THRESH + cv2.CALIB_CB_NORMALIZE_IMAGE\n",
    "\n",
    "            ret, corners = cv2.findChessboardCorners(\n",
    "                gray_images[i], chessboard_size, chessboard_flags)\n",
    "\n",
    "            # 若未找到角点则退出\n",
    "            if ret is not True:\n",
    "                continue\n",
    "\n",
    "            # 进一步优化角点坐标\n",
    "            criteria = (cv2.TERM_CRITERIA_MAX_ITER +\n",
    "                        cv2.TERM_CRITERIA_EPS, 30, 0.001)\n",
    "            corners = cv2.cornerSubPix(\n",
    "                gray_images[0], corners, (11, 11), (-1, -1), criteria)\n",
    "\n",
    "            # 保存棋盘格角点图片\n",
    "            if save_image:\n",
    "                img = cv2.drawChessboardCorners(copy.deepcopy(\n",
    "                    gray_images[0]), chessboard_size, corners, ret,)\n",
    "                cv2.imwrite(save_path+'corners_{}'.format(i), img=img)\n",
    "\n",
    "            # 生成角点在世界坐标系下的坐标点\n",
    "            truth_locations = generate_truth_locations(\n",
    "                chessboard_size, chessboard_cell_size)\n",
    "\n",
    "            # 计算H矩阵\n",
    "            H = recover_homographies(corners, truth_locations)\n",
    "            H_s.append(H)\n",
    "\n"
   ]
  },
  {
   "cell_type": "code",
   "execution_count": null,
   "metadata": {},
   "outputs": [],
   "source": [
    "Camera.static_calibrate()"
   ]
  }
 ],
 "metadata": {
  "interpreter": {
   "hash": "11f1dc213e07634baa4c5c321dec03c05dafae643c50f20e6d1a492290c05dc2"
  },
  "kernelspec": {
   "display_name": "Python 3.9.10 64-bit",
   "language": "python",
   "name": "python3"
  },
  "language_info": {
   "codemirror_mode": {
    "name": "ipython",
    "version": 3
   },
   "file_extension": ".py",
   "mimetype": "text/x-python",
   "name": "python",
   "nbconvert_exporter": "python",
   "pygments_lexer": "ipython3",
   "version": "3.9.10"
  },
  "orig_nbformat": 4
 },
 "nbformat": 4,
 "nbformat_minor": 2
}
